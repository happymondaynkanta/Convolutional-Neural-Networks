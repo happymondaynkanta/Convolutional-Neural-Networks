{
 "cells": [
  {
   "cell_type": "code",
   "execution_count": null,
   "metadata": {},
   "outputs": [],
   "source": [
    "import numpy as np\n",
    "import tensorflow as tf\n",
    "import matplotlib.pyplot as plt\n",
    "%matplotlib inline\n",
    "\n",
    "from tensorflow.examples.tutorials.mnist import input_data\n",
    "\n",
    "mnist = input_data.read_data_sets(\"C:/Users/Lord/TensorFlow/mnist\", one_hot=True)"
   ]
  },
  {
   "cell_type": "code",
   "execution_count": 7,
   "metadata": {},
   "outputs": [],
   "source": [
    "x = tf.placeholder(tf.float32, shape=[None, 784])\n",
    "y = tf.placeholder(tf.float32, shape=[None, 10])\n",
    "\n",
    "x_reshape = tf.reshape(x, [-1,28,28,1])\n",
    "\n",
    "\n",
    "\n",
    "W1 = tf.Variable(tf.truncated_normal(shape=[3, 3, 1, 32], stddev=0.1)) \n",
    "W2 = tf.Variable(tf.truncated_normal(shape=[3, 3, 32, 16], stddev=0.1))\n",
    "\n",
    "\n",
    "\n",
    "b1 = tf.Variable(tf.random_normal([32]))\n",
    "b2 = tf.Variable(tf.random_normal([16]))\n",
    "\n",
    "\n",
    "\n",
    "hid_lay1 = tf.nn.relu(tf.nn.conv2d(x_reshape, W1, strides=[1,1,1,1], padding='SAME') + b1)\n",
    "pool1 = tf.nn.max_pool(hid_lay1, ksize=[1,2,2,1], strides=[1,2,2,1], padding='SAME')\n",
    "\n",
    "\n",
    "\n",
    "\n",
    "hid_lay2 = tf.nn.relu(tf.nn.conv2d(pool1, W2, strides=[1,1,1,1], padding='SAME') + b2)\n",
    "pool2 = tf.nn.max_pool(hid_lay2, ksize=[1,2,2,1], strides=[1,2,2,1], padding='SAME')\n",
    "\n",
    "\n",
    "\n",
    "\n",
    "\n",
    "\n",
    "# Fully connnected layers\n",
    "W_1 = tf.Variable(tf.truncated_normal(shape=[7 * 7 * 16, 100], stddev=0.1)) \n",
    "W_2 = tf.Variable(tf.truncated_normal(shape=[100, 10], stddev=0.1))\n",
    "\n",
    "\n",
    "b_1 = tf.Variable(tf.random_normal([100]))\n",
    "b_2 = tf.Variable(tf.random_normal([10]))\n",
    "\n",
    "\n",
    "\n",
    "\n",
    "\n",
    "flattee = tf.reshape(pool2, [-1, 7 * 7 * 16])\n",
    "\n",
    "\n",
    "FC1 = tf.nn.relu(tf.matmul(flattee, W_1) + b_1)\n",
    "\n",
    "\n",
    "FC2 = tf.matmul(FC1, W_2) + b_2\n",
    "\n"
   ]
  },
  {
   "cell_type": "code",
   "execution_count": 8,
   "metadata": {},
   "outputs": [],
   "source": [
    "cost = tf.reduce_mean(tf.nn.softmax_cross_entropy_with_logits(logits=FC2, labels=y))\n",
    "\n",
    "optimizer = tf.train.AdamOptimizer(learning_rate=0.1)\n",
    "\n",
    "train = optimizer.minimize(cost)\n",
    "\n",
    "init = tf.global_variables_initializer()"
   ]
  },
  {
   "cell_type": "code",
   "execution_count": 9,
   "metadata": {},
   "outputs": [
    {
     "name": "stdout",
     "output_type": "stream",
     "text": [
      "0.9258\n"
     ]
    }
   ],
   "source": [
    "with tf.Session() as sess:\n",
    "    \n",
    "    sess.run(init)\n",
    "\n",
    "    \n",
    "    for step in range(1000):\n",
    "        \n",
    "        x_batch, y_batch = mnist.train.next_batch(100)\n",
    "\n",
    "\n",
    "        sess.run(train, feed_dict={x:x_batch, y:y_batch})\n",
    "\n",
    "\n",
    "        \n",
    "    pred = tf.equal(tf.argmax(FC2, 1), tf.argmax(y, 1))\n",
    "    \n",
    "    acc = tf.reduce_mean(tf.cast(pred, tf.float32))\n",
    "    \n",
    "    \n",
    "    print(sess.run(acc, feed_dict = {x:mnist.test.images, y:mnist.test.labels}))\n",
    "\n",
    "\n"
   ]
  }
 ],
 "metadata": {
  "kernelspec": {
   "display_name": "Python 3",
   "language": "python",
   "name": "python3"
  },
  "language_info": {
   "codemirror_mode": {
    "name": "ipython",
    "version": 3
   },
   "file_extension": ".py",
   "mimetype": "text/x-python",
   "name": "python",
   "nbconvert_exporter": "python",
   "pygments_lexer": "ipython3",
   "version": "3.6.7"
  }
 },
 "nbformat": 4,
 "nbformat_minor": 2
}
