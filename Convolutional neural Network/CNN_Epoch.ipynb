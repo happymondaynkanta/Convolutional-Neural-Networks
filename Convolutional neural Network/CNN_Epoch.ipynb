{
 "cells": [
  {
   "cell_type": "code",
   "execution_count": null,
   "metadata": {},
   "outputs": [],
   "source": [
    "import tensorflow as tf\n",
    "\n",
    "from tensorflow.examples.tutorials.mnist import input_data\n",
    "\n",
    "mnist = input_data.read_data_sets(\"C:/Users/Lord/TensorFlow/mnist\", one_hot=True)\n",
    "\n",
    "\n",
    "\n",
    "\n",
    "\n",
    "x = tf.placeholder(tf.float32, shape=[None, 784])\n",
    "y = tf.placeholder(tf.float32, shape=[None, 10])\n",
    "\n",
    "\n",
    "x_reshape = tf.reshape(x, [-1, 28, 28, 1])\n"
   ]
  },
  {
   "cell_type": "code",
   "execution_count": 3,
   "metadata": {},
   "outputs": [],
   "source": [
    "# Convolution Layer with 32 filters and a kernel size of 3\n",
    "conv1 = tf.layers.conv2d(x_reshape, 32, 3, strides=(1,1), padding='same', activation=tf.nn.relu)\n",
    "\n",
    "# Max Pooling (down-sampling) with strides of 2 and kernel size of 2\n",
    "pool1 = tf.layers.max_pooling2d(conv1, 2, 2)\n",
    "\n",
    "\n",
    "\n",
    "\n",
    "conv2 = tf.layers.conv2d(pool1, 16, 3, strides=(1,1), padding='same', activation=tf.nn.relu)\n",
    "pool2 = tf.layers.max_pooling2d(conv1, 2, 2)\n",
    "\n",
    "\n",
    "\n",
    "\n",
    "conv3 = tf.layers.conv2d(pool2, 16, 3, strides=(1,1), padding='same', activation=tf.nn.relu)\n",
    "pool3 = tf.layers.max_pooling2d(conv1, 2, 2)\n",
    "\n",
    "\n",
    "\n",
    "\n",
    "# Flatten the data to a 1-D vector for the fully connected layer\n",
    "flattee = tf.contrib.layers.flatten(pool3)\n",
    "\n",
    "\n",
    "\n",
    "# Fully connected layer (in tf contrib folder for now)\n",
    "fc1 = tf.layers.dense(flattee, 1024)\n",
    "\n",
    "# Apply Dropout (if is_training is False, dropout is not applied)\n",
    "fc1 = tf.layers.dropout(fc1, rate=0.25, training=True)\n",
    "\n",
    "\n",
    "\n",
    "\n",
    "# Output layer, class prediction\n",
    "out = tf.layers.dense(fc1, 10)\n",
    "\n"
   ]
  },
  {
   "cell_type": "code",
   "execution_count": 4,
   "metadata": {},
   "outputs": [
    {
     "name": "stdout",
     "output_type": "stream",
     "text": [
      "WARNING:tensorflow:From <ipython-input-4-e079923c51fc>:1: softmax_cross_entropy_with_logits (from tensorflow.python.ops.nn_ops) is deprecated and will be removed in a future version.\n",
      "Instructions for updating:\n",
      "\n",
      "Future major versions of TensorFlow will allow gradients to flow\n",
      "into the labels input on backprop by default.\n",
      "\n",
      "See `tf.nn.softmax_cross_entropy_with_logits_v2`.\n",
      "\n"
     ]
    }
   ],
   "source": [
    "cost = tf.reduce_mean(tf.nn.softmax_cross_entropy_with_logits(logits=out, labels=y))\n",
    "\n",
    "optimizer = tf.train.AdamOptimizer(learning_rate=0.001)\n",
    "\n",
    "train = optimizer.minimize(cost)\n",
    "\n",
    "\n",
    "init = tf.global_variables_initializer()"
   ]
  },
  {
   "cell_type": "code",
   "execution_count": 6,
   "metadata": {},
   "outputs": [
    {
     "name": "stdout",
     "output_type": "stream",
     "text": [
      "Epoch 0 ---  Loss:  0.10564112 ---  Acc:  0.97\n",
      "Epoch 1 ---  Loss:  0.0058301515 ---  Acc:  1.0\n",
      "Epoch 2 ---  Loss:  0.0006572091 ---  Acc:  1.0\n",
      "Epoch 3 ---  Loss:  0.018695295 ---  Acc:  0.99\n",
      "Epoch 4 ---  Loss:  0.00394664 ---  Acc:  1.0\n",
      "Total Loss:  0.06914368 ---   Total Acc:  0.9844\n"
     ]
    }
   ],
   "source": [
    "pred = tf.equal(tf.argmax(y,1), tf.argmax(out,1))\n",
    "\n",
    "acc = tf.reduce_mean(tf.cast(pred, tf.float32))\n",
    "\n",
    "\n",
    "\n",
    "epochs = 5\n",
    "\n",
    "\n",
    "\n",
    "\n",
    "\n",
    "with tf.Session() as sess:\n",
    "    \n",
    "    sess.run(init)\n",
    "\n",
    "    \n",
    "    for epoch in range(epochs):\n",
    "        \n",
    "        for step in range(1000):\n",
    "        \n",
    "            x_batch, y_batch = mnist.train.next_batch(100)\n",
    "        \n",
    "            sess.run(train, feed_dict={x:x_batch, y:y_batch})\n",
    "            \n",
    "            \n",
    "            loss_batch, acc_batch = sess.run([cost, acc], feed_dict={x:x_batch, y:y_batch})\n",
    "            \n",
    "\n",
    "        print(\"Epoch\", epoch, \"---  Loss: \", loss_batch, \"---  Acc: \", acc_batch)\n",
    "            \n",
    "            \n",
    "            \n",
    "            \n",
    "    \n",
    "    loss_valid, acc_valid = sess.run([cost,acc], feed_dict={x:mnist.test.images, y:mnist.test.labels})\n",
    "    \n",
    "   \n",
    "    print(\"Total Loss: \", loss_valid, \"---   Total Acc: \", acc_valid)\n",
    "    "
   ]
  },
  {
   "cell_type": "code",
   "execution_count": null,
   "metadata": {},
   "outputs": [],
   "source": []
  }
 ],
 "metadata": {
  "kernelspec": {
   "display_name": "Python 3",
   "language": "python",
   "name": "python3"
  },
  "language_info": {
   "codemirror_mode": {
    "name": "ipython",
    "version": 3
   },
   "file_extension": ".py",
   "mimetype": "text/x-python",
   "name": "python",
   "nbconvert_exporter": "python",
   "pygments_lexer": "ipython3",
   "version": "3.6.7"
  }
 },
 "nbformat": 4,
 "nbformat_minor": 2
}
